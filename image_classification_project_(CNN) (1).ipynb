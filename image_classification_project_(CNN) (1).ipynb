{
  "cells": [
    {
      "cell_type": "markdown",
      "metadata": {
        "id": "in9nPVPg4gsn"
      },
      "source": [
        "#importing the library"
      ]
    },
    {
      "cell_type": "code",
      "execution_count": null,
      "metadata": {
        "id": "82CsFlBR26WK"
      },
      "outputs": [],
      "source": [
        "import glob  # to return all file paths that match a specific pattern\n",
        "\n",
        "import tensorflow as tf\n",
        "import numpy as np\n",
        "from tensorflow import keras\n",
        "import cv2\n",
        "\n",
        "import os\n",
        "import matplotlib.pyplot as plt\n",
        "import pandas as pd\n",
        "from sklearn import preprocessing\n",
        "\n",
        "import keras\n",
        "from google.colab import files\n",
        "\n",
        "from sklearn.metrics import confusion_matrix, classification_report\n"
      ]
    },
    {
      "cell_type": "markdown",
      "metadata": {
        "id": "zY3jJFYVGRtS"
      },
      "source": [
        "#get the files of train and test"
      ]
    },
    {
      "cell_type": "code",
      "execution_count": null,
      "metadata": {
        "colab": {
          "base_uri": "https://localhost:8080/"
        },
        "id": "H4x6_S-15VWh",
        "outputId": "5ee7aa12-9ef4-4974-a755-bbd3e9507cb3"
      },
      "outputs": [
        {
          "output_type": "stream",
          "name": "stdout",
          "text": [
            "Archive:  /content/drive/MyDrive/my projects/shai-level-trainingg.zip\n",
            "replace sample_submission.csv? [y]es, [n]o, [A]ll, [N]one, [r]ename: "
          ]
        }
      ],
      "source": [
        "!unzip '/content/drive/MyDrive/my projects/shai-level-trainingg.zip'"
      ]
    },
    {
      "cell_type": "code",
      "execution_count": null,
      "metadata": {
        "id": "tZ7WeYtXBzh7"
      },
      "outputs": [],
      "source": [
        "train_dir = '/content/train'\n",
        "test_dir = '/content/test'"
      ]
    },
    {
      "cell_type": "markdown",
      "metadata": {
        "id": "UPoBIZL3HuHp"
      },
      "source": [
        "#pre-processing"
      ]
    },
    {
      "cell_type": "code",
      "execution_count": null,
      "metadata": {
        "id": "l6KVCpIOFDiz"
      },
      "outputs": [],
      "source": [
        "image_size = 300\n",
        "Batch_size = 32\n",
        "\n",
        "train_datagen = tf.keras.preprocessing.image.ImageDataGenerator(\n",
        "    rescale = 1./255,\n",
        "    shear_range = 0.2,\n",
        "    zoom_range = 0.2,\n",
        "    horizontal_flip=True,\n",
        "    validation_split=0.1\n",
        ")\n"
      ]
    },
    {
      "cell_type": "markdown",
      "metadata": {
        "id": "9CVQLsePQADM"
      },
      "source": [
        "#training and validation set"
      ]
    },
    {
      "cell_type": "code",
      "execution_count": null,
      "metadata": {
        "colab": {
          "base_uri": "https://localhost:8080/"
        },
        "id": "erGBqcncKaGO",
        "outputId": "ff91c6a0-73a9-48a9-8b84-2fcadff84c17"
      },
      "outputs": [
        {
          "output_type": "stream",
          "name": "stdout",
          "text": [
            "Found 1078 images belonging to 3 classes.\n",
            "Found 118 images belonging to 3 classes.\n"
          ]
        }
      ],
      "source": [
        "train_dataset = train_datagen.flow_from_directory(\n",
        "    train_dir,\n",
        "    target_size=(image_size, image_size),\n",
        "    batch_size=Batch_size,\n",
        "    subset='training'\n",
        ")\n",
        "\n",
        "val_dataset = train_datagen.flow_from_directory(\n",
        "    train_dir,\n",
        "    target_size=(image_size, image_size),\n",
        "    batch_size=Batch_size,\n",
        "    subset='validation'\n",
        ")"
      ]
    },
    {
      "cell_type": "code",
      "execution_count": null,
      "metadata": {
        "colab": {
          "base_uri": "https://localhost:8080/"
        },
        "id": "-Zpip9hzgGKv",
        "outputId": "9c313d27-4cfc-40a1-9209-cf83ca9d414a"
      },
      "outputs": [
        {
          "output_type": "execute_result",
          "data": {
            "text/plain": [
              "{'covid': 0, 'normal': 1, 'virus': 2}"
            ]
          },
          "metadata": {},
          "execution_count": 113
        }
      ],
      "source": [
        "train_dataset.class_indices"
      ]
    },
    {
      "cell_type": "markdown",
      "metadata": {
        "id": "LGPgOpVpQFrl"
      },
      "source": [
        "#build the model"
      ]
    },
    {
      "cell_type": "code",
      "execution_count": null,
      "metadata": {
        "id": "8acYDqYLLxHU"
      },
      "outputs": [],
      "source": [
        "cnn = tf.keras.Sequential()\n",
        "\n",
        "cnn.add(tf.keras.layers.Conv2D(filters=64, padding='same', strides=2,kernel_size=3, activation='relu', input_shape=(300,300,3)))\n",
        "cnn.add(tf.keras.layers.MaxPool2D(pool_size=2, strides=2))\n",
        "\n",
        "\n",
        "cnn.add(tf.keras.layers.Conv2D(filters=32, padding='same', strides=2,kernel_size=3, activation='relu'))\n",
        "cnn.add(tf.keras.layers.MaxPool2D(pool_size=2, strides=2))\n",
        "\n",
        "# cnn.add(tf.keras.layers.Conv2D(filters=64, padding='same', strides=2,kernel_size=3, activation='relu'))\n",
        "# cnn.add(tf.keras.layers.MaxPool2D(pool_size=2, strides=2))\n",
        "\n",
        "# cnn.add(tf.keras.layers.Conv2D(filters=128, padding='same', strides=2,kernel_size=3, activation='relu'))\n",
        "# cnn.add(tf.keras.layers.MaxPool2D(pool_size=2, strides=2))\n",
        "\n",
        "cnn.add(tf.keras.layers.Flatten())\n",
        "cnn.add(tf.keras.layers.Dense(3, activation='softmax'))"
      ]
    },
    {
      "cell_type": "code",
      "execution_count": null,
      "metadata": {
        "id": "QEk-PTgML3QO"
      },
      "outputs": [],
      "source": [
        "cnn.compile(tf.keras.optimizers.Adam(clipnorm=1.0),\n",
        "            loss='categorical_crossentropy',\n",
        "            metrics=['accuracy'])"
      ]
    },
    {
      "cell_type": "code",
      "execution_count": null,
      "metadata": {
        "colab": {
          "base_uri": "https://localhost:8080/"
        },
        "id": "rkeJK1Z6wK56",
        "outputId": "df95321a-63e5-4b40-c3d5-3f5e33b298af"
      },
      "outputs": [
        {
          "output_type": "stream",
          "name": "stdout",
          "text": [
            "Model: \"sequential_4\"\n",
            "_________________________________________________________________\n",
            " Layer (type)                Output Shape              Param #   \n",
            "=================================================================\n",
            " conv2d_8 (Conv2D)           (None, 175, 175, 64)      1792      \n",
            "                                                                 \n",
            " max_pooling2d_8 (MaxPooling  (None, 87, 87, 64)       0         \n",
            " 2D)                                                             \n",
            "                                                                 \n",
            " conv2d_9 (Conv2D)           (None, 44, 44, 32)        18464     \n",
            "                                                                 \n",
            " max_pooling2d_9 (MaxPooling  (None, 22, 22, 32)       0         \n",
            " 2D)                                                             \n",
            "                                                                 \n",
            " flatten_4 (Flatten)         (None, 15488)             0         \n",
            "                                                                 \n",
            " dense_4 (Dense)             (None, 3)                 46467     \n",
            "                                                                 \n",
            "=================================================================\n",
            "Total params: 66,723\n",
            "Trainable params: 66,723\n",
            "Non-trainable params: 0\n",
            "_________________________________________________________________\n"
          ]
        }
      ],
      "source": [
        "cnn.summary()"
      ]
    },
    {
      "cell_type": "markdown",
      "metadata": {
        "id": "7EGNf_nkASUZ"
      },
      "source": [
        "**Training**"
      ]
    },
    {
      "cell_type": "code",
      "execution_count": null,
      "metadata": {
        "id": "0ziuyD4e73on"
      },
      "outputs": [],
      "source": [
        "#Learning rate scheduling (by callback)\n",
        "#Instead of using a fixed learning rate, we will use a learning rate scheduler, which will change the learning rate after every batch of training (to enhance the model)\n",
        "def scheduler(epoch, lr):\n",
        "  if epoch < 10:\n",
        "    return lr\n",
        "  else:\n",
        "    return lr * tf.math.exp(-0.1)"
      ]
    },
    {
      "cell_type": "code",
      "execution_count": null,
      "metadata": {
        "id": "hmwHUlX07uKg"
      },
      "outputs": [],
      "source": [
        "callback = tf.keras.callbacks.LearningRateScheduler(scheduler)"
      ]
    },
    {
      "cell_type": "code",
      "execution_count": null,
      "metadata": {
        "colab": {
          "base_uri": "https://localhost:8080/"
        },
        "id": "4rGua4ZbO0Dm",
        "outputId": "45b1ad6b-4737-4956-8365-3955fe2a7056"
      },
      "outputs": [
        {
          "output_type": "stream",
          "name": "stdout",
          "text": [
            "Epoch 1/20\n",
            "34/34 [==============================] - 85s 2s/step - loss: 0.8405 - accuracy: 0.6104 - val_loss: 0.8417 - val_accuracy: 0.6356 - lr: 0.0010\n",
            "Epoch 2/20\n",
            "34/34 [==============================] - 81s 2s/step - loss: 0.5397 - accuracy: 0.7774 - val_loss: 0.6343 - val_accuracy: 0.7203 - lr: 0.0010\n",
            "Epoch 3/20\n",
            "34/34 [==============================] - 81s 2s/step - loss: 0.4135 - accuracy: 0.8302 - val_loss: 0.4810 - val_accuracy: 0.8220 - lr: 0.0010\n",
            "Epoch 4/20\n",
            "34/34 [==============================] - 79s 2s/step - loss: 0.3735 - accuracy: 0.8571 - val_loss: 0.3610 - val_accuracy: 0.8729 - lr: 0.0010\n",
            "Epoch 5/20\n",
            "34/34 [==============================] - 83s 2s/step - loss: 0.3513 - accuracy: 0.8683 - val_loss: 0.4098 - val_accuracy: 0.8475 - lr: 0.0010\n",
            "Epoch 6/20\n",
            "34/34 [==============================] - 79s 2s/step - loss: 0.2926 - accuracy: 0.8961 - val_loss: 0.5542 - val_accuracy: 0.8220 - lr: 0.0010\n",
            "Epoch 7/20\n",
            "34/34 [==============================] - 81s 2s/step - loss: 0.2823 - accuracy: 0.8822 - val_loss: 0.3833 - val_accuracy: 0.8475 - lr: 0.0010\n",
            "Epoch 8/20\n",
            "34/34 [==============================] - 80s 2s/step - loss: 0.2942 - accuracy: 0.8850 - val_loss: 0.3835 - val_accuracy: 0.8475 - lr: 0.0010\n",
            "Epoch 9/20\n",
            "34/34 [==============================] - 79s 2s/step - loss: 0.3395 - accuracy: 0.8729 - val_loss: 0.3727 - val_accuracy: 0.8644 - lr: 0.0010\n",
            "Epoch 10/20\n",
            "34/34 [==============================] - 80s 2s/step - loss: 0.2867 - accuracy: 0.8952 - val_loss: 0.2904 - val_accuracy: 0.8983 - lr: 0.0010\n",
            "Epoch 11/20\n",
            "34/34 [==============================] - 81s 2s/step - loss: 0.2963 - accuracy: 0.8840 - val_loss: 0.3943 - val_accuracy: 0.8644 - lr: 9.0484e-04\n",
            "Epoch 12/20\n",
            "34/34 [==============================] - 79s 2s/step - loss: 0.2539 - accuracy: 0.9026 - val_loss: 0.4035 - val_accuracy: 0.8644 - lr: 8.1873e-04\n",
            "Epoch 13/20\n",
            "34/34 [==============================] - 81s 2s/step - loss: 0.2493 - accuracy: 0.9072 - val_loss: 0.3393 - val_accuracy: 0.9068 - lr: 7.4082e-04\n",
            "Epoch 14/20\n",
            "34/34 [==============================] - 81s 2s/step - loss: 0.1970 - accuracy: 0.9341 - val_loss: 0.3393 - val_accuracy: 0.8559 - lr: 6.7032e-04\n",
            "Epoch 15/20\n",
            "34/34 [==============================] - 79s 2s/step - loss: 0.1898 - accuracy: 0.9267 - val_loss: 0.4892 - val_accuracy: 0.8220 - lr: 6.0653e-04\n",
            "Epoch 16/20\n",
            "34/34 [==============================] - 81s 2s/step - loss: 0.1835 - accuracy: 0.9332 - val_loss: 0.3354 - val_accuracy: 0.8983 - lr: 5.4881e-04\n",
            "Epoch 17/20\n",
            "34/34 [==============================] - 81s 2s/step - loss: 0.1771 - accuracy: 0.9314 - val_loss: 0.3324 - val_accuracy: 0.8814 - lr: 4.9659e-04\n",
            "Epoch 18/20\n",
            "34/34 [==============================] - 79s 2s/step - loss: 0.1693 - accuracy: 0.9360 - val_loss: 0.3922 - val_accuracy: 0.8898 - lr: 4.4933e-04\n",
            "Epoch 19/20\n",
            "34/34 [==============================] - 81s 2s/step - loss: 0.1816 - accuracy: 0.9416 - val_loss: 0.3320 - val_accuracy: 0.8814 - lr: 4.0657e-04\n",
            "Epoch 20/20\n",
            "34/34 [==============================] - 81s 2s/step - loss: 0.1731 - accuracy: 0.9378 - val_loss: 0.3268 - val_accuracy: 0.8898 - lr: 3.6788e-04\n"
          ]
        }
      ],
      "source": [
        "history = cnn.fit(\n",
        "      train_dataset,\n",
        "      epochs=20,\n",
        "      validation_data=val_dataset,\n",
        "      callbacks=[callback]  \n",
        ")"
      ]
    },
    {
      "cell_type": "code",
      "execution_count": null,
      "metadata": {
        "colab": {
          "base_uri": "https://localhost:8080/"
        },
        "id": "anqiZ6WKUQGo",
        "outputId": "d9c04e25-67dc-4d05-d754-9e209a2989a9"
      },
      "outputs": [
        {
          "output_type": "execute_result",
          "data": {
            "text/plain": [
              "keras.preprocessing.image.DirectoryIterator"
            ]
          },
          "metadata": {},
          "execution_count": 52
        }
      ],
      "source": [
        "type(train_dataset)"
      ]
    },
    {
      "cell_type": "code",
      "execution_count": null,
      "metadata": {
        "colab": {
          "base_uri": "https://localhost:8080/",
          "height": 300
        },
        "id": "pEjjsx3mE9HN",
        "outputId": "c68ec30f-1068-4fd2-960b-500a7365dee6"
      },
      "outputs": [
        {
          "output_type": "execute_result",
          "data": {
            "text/plain": [
              "<matplotlib.legend.Legend at 0x7f8039c99e10>"
            ]
          },
          "metadata": {},
          "execution_count": 120
        },
        {
          "output_type": "display_data",
          "data": {
            "text/plain": [
              "<Figure size 432x288 with 1 Axes>"
            ],
            "image/png": "[encoded data removed]"
          },
          "metadata": {
            "needs_background": "light"
          }
        }
      ],
      "source": [
        "plt.plot(history.history['accuracy'], label='accuracy')\n",
        "plt.plot(history.history['val_accuracy'], label = 'val_accuracy')\n",
        "plt.xlabel('Epoch')\n",
        "plt.ylabel('Accuracy')\n",
        "plt.ylim([0.5, 1])\n",
        "plt.legend(loc='lower right') "
      ]
    },
    {
      "cell_type": "markdown",
      "metadata": {
        "id": "vDyYbPUqojPZ"
      },
      "source": [
        "#feature extraction"
      ]
    },
    {
      "cell_type": "code",
      "execution_count": null,
      "metadata": {
        "id": "5o2P2z5_mpzu"
      },
      "outputs": [],
      "source": [
        "feature_extractor = keras.Model(\n",
        "    inputs = cnn.inputs,\n",
        "    outputs = [layer.output for layer in cnn.layers]\n",
        ")"
      ]
    },
    {
      "cell_type": "code",
      "execution_count": null,
      "metadata": {
        "id": "pKryg7prn5GZ"
      },
      "outputs": [],
      "source": [
        "x = tf.ones((1,250,250,3))\n",
        "features = feature_extractor(x)"
      ]
    },
    {
      "cell_type": "code",
      "execution_count": null,
      "metadata": {
        "colab": {
          "base_uri": "https://localhost:8080/"
        },
        "id": "LkrdUKGK2VQT",
        "outputId": "e53f0ae9-a59d-4463-e8c6-c93d82bd6dcf"
      },
      "outputs": [
        {
          "data": {
            "text/plain": [
              "<tf.Tensor: shape=(1, 125, 125, 64), dtype=float32, numpy=\n",
              "array([[[[0.        , 0.01121285, 0.00841435, ..., 1.023357  ,\n",
              "          0.00330275, 0.0125383 ],\n",
              "         [0.        , 0.01121285, 0.00841435, ..., 1.023357  ,\n",
              "          0.00330275, 0.0125383 ],\n",
              "         [0.        , 0.01121285, 0.00841435, ..., 1.023357  ,\n",
              "          0.00330275, 0.0125383 ],\n",
              "         ...,\n",
              "         [0.        , 0.01121285, 0.00841435, ..., 1.023357  ,\n",
              "          0.00330275, 0.0125383 ],\n",
              "         [0.        , 0.01121285, 0.00841435, ..., 1.023357  ,\n",
              "          0.00330275, 0.0125383 ],\n",
              "         [0.03244157, 0.20869194, 0.        , ..., 0.6566032 ,\n",
              "          0.        , 0.        ]],\n",
              "\n",
              "        [[0.        , 0.01121285, 0.00841435, ..., 1.023357  ,\n",
              "          0.00330275, 0.0125383 ],\n",
              "         [0.        , 0.01121285, 0.00841435, ..., 1.023357  ,\n",
              "          0.00330275, 0.0125383 ],\n",
              "         [0.        , 0.01121285, 0.00841435, ..., 1.023357  ,\n",
              "          0.00330275, 0.0125383 ],\n",
              "         ...,\n",
              "         [0.        , 0.01121285, 0.00841435, ..., 1.023357  ,\n",
              "          0.00330275, 0.0125383 ],\n",
              "         [0.        , 0.01121285, 0.00841435, ..., 1.023357  ,\n",
              "          0.00330275, 0.0125383 ],\n",
              "         [0.03244157, 0.20869194, 0.        , ..., 0.6566032 ,\n",
              "          0.        , 0.        ]],\n",
              "\n",
              "        [[0.        , 0.01121285, 0.00841435, ..., 1.023357  ,\n",
              "          0.00330275, 0.0125383 ],\n",
              "         [0.        , 0.01121285, 0.00841435, ..., 1.023357  ,\n",
              "          0.00330275, 0.0125383 ],\n",
              "         [0.        , 0.01121285, 0.00841435, ..., 1.023357  ,\n",
              "          0.00330275, 0.0125383 ],\n",
              "         ...,\n",
              "         [0.        , 0.01121285, 0.00841435, ..., 1.023357  ,\n",
              "          0.00330275, 0.0125383 ],\n",
              "         [0.        , 0.01121285, 0.00841435, ..., 1.023357  ,\n",
              "          0.00330275, 0.0125383 ],\n",
              "         [0.03244157, 0.20869194, 0.        , ..., 0.6566032 ,\n",
              "          0.        , 0.        ]],\n",
              "\n",
              "        ...,\n",
              "\n",
              "        [[0.        , 0.01121285, 0.00841435, ..., 1.023357  ,\n",
              "          0.00330275, 0.0125383 ],\n",
              "         [0.        , 0.01121285, 0.00841435, ..., 1.023357  ,\n",
              "          0.00330275, 0.0125383 ],\n",
              "         [0.        , 0.01121285, 0.00841435, ..., 1.023357  ,\n",
              "          0.00330275, 0.0125383 ],\n",
              "         ...,\n",
              "         [0.        , 0.01121285, 0.00841435, ..., 1.023357  ,\n",
              "          0.00330275, 0.0125383 ],\n",
              "         [0.        , 0.01121285, 0.00841435, ..., 1.023357  ,\n",
              "          0.00330275, 0.0125383 ],\n",
              "         [0.03244157, 0.20869194, 0.        , ..., 0.6566032 ,\n",
              "          0.        , 0.        ]],\n",
              "\n",
              "        [[0.        , 0.01121285, 0.00841435, ..., 1.023357  ,\n",
              "          0.00330275, 0.0125383 ],\n",
              "         [0.        , 0.01121285, 0.00841435, ..., 1.023357  ,\n",
              "          0.00330275, 0.0125383 ],\n",
              "         [0.        , 0.01121285, 0.00841435, ..., 1.023357  ,\n",
              "          0.00330275, 0.0125383 ],\n",
              "         ...,\n",
              "         [0.        , 0.01121285, 0.00841435, ..., 1.023357  ,\n",
              "          0.00330275, 0.0125383 ],\n",
              "         [0.        , 0.01121285, 0.00841435, ..., 1.023357  ,\n",
              "          0.00330275, 0.0125383 ],\n",
              "         [0.03244157, 0.20869194, 0.        , ..., 0.6566032 ,\n",
              "          0.        , 0.        ]],\n",
              "\n",
              "        [[0.        , 0.        , 0.4376222 , ..., 0.70446587,\n",
              "          0.27488133, 0.2423648 ],\n",
              "         [0.        , 0.        , 0.4376222 , ..., 0.70446587,\n",
              "          0.27488133, 0.2423648 ],\n",
              "         [0.        , 0.        , 0.4376222 , ..., 0.70446587,\n",
              "          0.27488133, 0.2423648 ],\n",
              "         ...,\n",
              "         [0.        , 0.        , 0.4376222 , ..., 0.70446587,\n",
              "          0.27488133, 0.2423648 ],\n",
              "         [0.        , 0.        , 0.4376222 , ..., 0.70446587,\n",
              "          0.27488133, 0.2423648 ],\n",
              "         [0.02623562, 0.0062506 , 0.35491464, ..., 0.44960365,\n",
              "          0.01002078, 0.01920793]]]], dtype=float32)>"
            ]
          },
          "execution_count": 116,
          "metadata": {},
          "output_type": "execute_result"
        }
      ],
      "source": [
        "features[0]"
      ]
    },
    {
      "cell_type": "code",
      "execution_count": null,
      "metadata": {
        "colab": {
          "base_uri": "https://localhost:8080/"
        },
        "id": "Fm3JOVkvoQAH",
        "outputId": "9f4e2a17-b109-4c8d-da4b-13eaa78b8ec0"
      },
      "outputs": [
        {
          "data": {
            "text/plain": [
              "tensorflow.python.framework.ops.EagerTensor"
            ]
          },
          "execution_count": 50,
          "metadata": {},
          "output_type": "execute_result"
        }
      ],
      "source": [
        "type(features[0])"
      ]
    },
    {
      "cell_type": "markdown",
      "metadata": {
        "id": "wtlFnqG5eHBb"
      },
      "source": [
        "#test"
      ]
    },
    {
      "cell_type": "code",
      "execution_count": null,
      "metadata": {
        "id": "QkR01smClwqi"
      },
      "outputs": [],
      "source": [
        "test=[]\n",
        "def create_testing_data():\n",
        "        for img in os.listdir(test_dir):\n",
        "            try:\n",
        "                img_arr=cv2.imread(os.path.join(test_dir,img))\n",
        "                newarr=cv2.resize(img_arr,(300,300))\n",
        "                test.append([newarr])\n",
        "            except Exception as e :\n",
        "                pass\n",
        "        \n",
        "create_testing_data()  "
      ]
    },
    {
      "cell_type": "code",
      "execution_count": null,
      "metadata": {
        "colab": {
          "base_uri": "https://localhost:8080/"
        },
        "id": "7Q5AJTC-l1nj",
        "outputId": "babe37aa-8152-4393-9c2e-6e3ac6134c9c"
      },
      "outputs": [
        {
          "output_type": "stream",
          "name": "stdout",
          "text": [
            "513\n"
          ]
        }
      ],
      "source": [
        "print(len(test))"
      ]
    },
    {
      "cell_type": "code",
      "execution_count": null,
      "metadata": {
        "id": "0fJaSc2ul1kq"
      },
      "outputs": [],
      "source": [
        "test_set = np.array(test).reshape(-1,300,300,3)"
      ]
    },
    {
      "cell_type": "code",
      "execution_count": null,
      "metadata": {
        "id": "aqiv_fcpxTM_"
      },
      "outputs": [],
      "source": [
        "test_set = test_set/255"
      ]
    },
    {
      "cell_type": "code",
      "execution_count": null,
      "metadata": {
        "colab": {
          "base_uri": "https://localhost:8080/"
        },
        "id": "cGyMHUE-zYz-",
        "outputId": "abb11067-4743-495f-b86e-2afd027f1485"
      },
      "outputs": [
        {
          "output_type": "execute_result",
          "data": {
            "text/plain": [
              "(513, 350, 350, 3)"
            ]
          },
          "metadata": {},
          "execution_count": 134
        }
      ],
      "source": [
        "test_set.shape"
      ]
    },
    {
      "cell_type": "code",
      "execution_count": null,
      "metadata": {
        "colab": {
          "base_uri": "https://localhost:8080/"
        },
        "id": "GHSLj735sDnJ",
        "outputId": "5b4e7408-5667-4730-c7db-e1d999865f8b"
      },
      "outputs": [
        {
          "output_type": "execute_result",
          "data": {
            "text/plain": [
              "(350, 350, 3)"
            ]
          },
          "metadata": {},
          "execution_count": 135
        }
      ],
      "source": [
        "test_set[0].shape"
      ]
    },
    {
      "cell_type": "code",
      "execution_count": null,
      "metadata": {
        "colab": {
          "base_uri": "https://localhost:8080/",
          "height": 286
        },
        "id": "H57mhNEWryFe",
        "outputId": "b2833769-e698-4dd2-d46a-297268a82d33"
      },
      "outputs": [
        {
          "output_type": "execute_result",
          "data": {
            "text/plain": [
              "<matplotlib.image.AxesImage at 0x7f8039937610>"
            ]
          },
          "metadata": {},
          "execution_count": 136
        },
        {
          "output_type": "display_data",
          "data": {
            "text/plain": [
              "<Figure size 432x288 with 1 Axes>"
            ],
            "image/png": "[encoded data removed]"
          },
          "metadata": {
            "needs_background": "light"
          }
        }
      ],
      "source": [
        "plt.imshow(test_set[0], cmap='gray')\n"
      ]
    },
    {
      "cell_type": "markdown",
      "metadata": {
        "id": "-Ko4x3j3AlIt"
      },
      "source": [
        "**Prediction**"
      ]
    },
    {
      "cell_type": "code",
      "execution_count": null,
      "metadata": {
        "id": "5cK1k6gv-Y6u"
      },
      "outputs": [],
      "source": [
        "predictions = np.argmax(cnn.predict(test_set), axis=1)\n"
      ]
    },
    {
      "cell_type": "code",
      "execution_count": null,
      "metadata": {
        "colab": {
          "base_uri": "https://localhost:8080/"
        },
        "id": "VEwX8H5o3bUA",
        "outputId": "47b866ce-817b-4658-9400-f0da17dd32c7"
      },
      "outputs": [
        {
          "output_type": "execute_result",
          "data": {
            "text/plain": [
              "array([2, 1, 0, 1, 2, 1, 2, 1, 1, 1, 2, 2, 0, 1, 2, 1, 2, 2, 2, 2, 0, 2,\n",
              "       0, 0, 2, 1, 1, 1, 0, 0, 1, 2, 1, 1, 2, 2, 1, 1, 1, 1, 0, 1, 2, 1,\n",
              "       0, 2, 1, 2, 1, 0, 1, 1, 0, 0, 2, 1, 1, 1, 2, 1, 0, 2, 2, 1, 2, 0,\n",
              "       2, 1, 0, 0, 1, 2, 1, 2, 0, 2, 1, 2, 1, 1, 2, 0, 2, 1, 1, 2, 1, 1,\n",
              "       2, 0, 2, 2, 1, 2, 1, 2, 2, 0, 1, 2, 1, 1, 0, 2, 0, 0, 1, 1, 1, 1,\n",
              "       2, 1, 2, 2, 1, 2, 0, 0, 1, 2, 2, 1, 1, 0, 1, 1, 1, 0, 0, 0, 1, 1,\n",
              "       1, 2, 1, 1, 2, 1, 0, 1, 2, 2, 1, 0, 1, 1, 1, 0, 0, 2, 1, 1, 2, 2,\n",
              "       0, 2, 0, 2, 2, 2, 1, 0, 1, 0, 1, 1, 1, 2, 0, 1, 0, 0, 1, 2, 2, 0,\n",
              "       2, 1, 0, 0, 0, 1, 2, 2, 0, 2, 2, 2, 0, 0, 1, 2, 1, 1, 1, 2, 1, 1,\n",
              "       1, 1, 1, 0, 0, 2, 1, 2, 1, 0, 2, 0, 1, 0, 2, 0, 1, 0, 2, 2, 1, 1,\n",
              "       2, 1, 2, 2, 2, 0, 2, 1, 2, 0, 2, 0, 0, 1, 0, 0, 1, 1, 0, 1, 1, 1,\n",
              "       0, 0, 1, 1, 2, 1, 2, 1, 0, 0, 1, 1, 1, 2, 1, 1, 2, 1, 2, 1, 0, 1,\n",
              "       0, 1, 0, 1, 1, 1, 2, 2, 0, 1, 1, 0, 0, 0, 1, 1, 0, 2, 1, 2, 0, 2,\n",
              "       1, 1, 1, 0, 0, 1, 2, 1, 1, 2, 1, 2, 0, 1, 1, 0, 1, 2, 2, 1, 2, 2,\n",
              "       1, 0, 2, 1, 2, 2, 1, 2, 0, 2, 1, 1, 1, 2, 1, 1, 1, 1, 1, 0, 2, 1,\n",
              "       2, 1, 1, 2, 1, 2, 0, 1, 0, 2, 0, 2, 0, 2, 1, 2, 1, 2, 0, 2, 2, 1,\n",
              "       2, 2, 0, 1, 2, 2, 1, 1, 2, 0, 2, 2, 1, 1, 1, 0, 1, 1, 1, 1, 0, 1,\n",
              "       2, 2, 2, 1, 0, 1, 1, 2, 2, 1, 1, 2, 1, 2, 2, 1, 2, 1, 0, 0, 1, 1,\n",
              "       2, 1, 2, 0, 2, 1, 1, 1, 2, 2, 0, 0, 2, 2, 1, 0, 0, 0, 1, 2, 2, 1,\n",
              "       1, 2, 0, 0, 0, 2, 2, 0, 1, 2, 1, 1, 2, 2, 2, 2, 0, 0, 2, 2, 1, 1,\n",
              "       1, 2, 2, 2, 2, 2, 1, 1, 1, 1, 1, 2, 2, 1, 2, 2, 2, 1, 2, 2, 0, 1,\n",
              "       2, 2, 2, 0, 2, 1, 0, 1, 1, 1, 1, 1, 0, 1, 2, 2, 1, 1, 2, 1, 1, 0,\n",
              "       1, 0, 2, 0, 2, 1, 2, 2, 1, 1, 2, 1, 1, 2, 0, 0, 0, 2, 1, 1, 1, 0,\n",
              "       1, 1, 2, 2, 0, 0, 0])"
            ]
          },
          "metadata": {},
          "execution_count": 138
        }
      ],
      "source": [
        "predictions"
      ]
    },
    {
      "cell_type": "code",
      "execution_count": null,
      "metadata": {
        "colab": {
          "base_uri": "https://localhost:8080/"
        },
        "id": "0fZFH7YkslW9",
        "outputId": "5a00e553-9e5e-45d7-9acc-adff8b86bb32"
      },
      "outputs": [
        {
          "output_type": "execute_result",
          "data": {
            "text/plain": [
              "513"
            ]
          },
          "metadata": {},
          "execution_count": 129
        }
      ],
      "source": [
        "len(predictions)"
      ]
    },
    {
      "cell_type": "code",
      "execution_count": null,
      "metadata": {
        "id": "WuOE2qtl3bR5"
      },
      "outputs": [],
      "source": [
        "#{'covid': 0, 'normal': 1, 'virus': 2}\n",
        "\n",
        "le = preprocessing.LabelEncoder()\n",
        "le.fit([\"covid\", \"normal\", \"virus\"])\n",
        "\n",
        "list(le.classes_)\n",
        "\n",
        "tr = le.transform([\"covid\", \"normal\", \"virus\"])\n",
        "\n",
        "label = list(le.inverse_transform(predictions))\n"
      ]
    },
    {
      "cell_type": "code",
      "execution_count": null,
      "metadata": {
        "colab": {
          "base_uri": "https://localhost:8080/"
        },
        "id": "e79JE3LiEDcD",
        "outputId": "672abd31-2f65-4796-c110-e2d05c2329c9"
      },
      "outputs": [
        {
          "output_type": "execute_result",
          "data": {
            "text/plain": [
              "array([0, 1, 2])"
            ]
          },
          "metadata": {},
          "execution_count": 140
        }
      ],
      "source": [
        "tr"
      ]
    },
    {
      "cell_type": "code",
      "execution_count": null,
      "metadata": {
        "colab": {
          "base_uri": "https://localhost:8080/"
        },
        "id": "4Fqf9T6UBE4b",
        "outputId": "e12948c7-1c47-4063-b909-3aa64860bda2"
      },
      "outputs": [
        {
          "output_type": "execute_result",
          "data": {
            "text/plain": [
              "['virus',\n",
              " 'normal',\n",
              " 'covid',\n",
              " 'normal',\n",
              " 'virus',\n",
              " 'normal',\n",
              " 'virus',\n",
              " 'normal',\n",
              " 'normal',\n",
              " 'normal',\n",
              " 'virus',\n",
              " 'virus',\n",
              " 'covid',\n",
              " 'normal',\n",
              " 'virus',\n",
              " 'normal',\n",
              " 'virus',\n",
              " 'virus',\n",
              " 'virus',\n",
              " 'virus',\n",
              " 'covid',\n",
              " 'virus',\n",
              " 'covid',\n",
              " 'covid',\n",
              " 'virus',\n",
              " 'normal',\n",
              " 'normal',\n",
              " 'normal',\n",
              " 'covid',\n",
              " 'covid',\n",
              " 'normal',\n",
              " 'virus',\n",
              " 'normal',\n",
              " 'normal',\n",
              " 'virus',\n",
              " 'virus',\n",
              " 'normal',\n",
              " 'normal',\n",
              " 'normal',\n",
              " 'normal',\n",
              " 'covid',\n",
              " 'normal',\n",
              " 'virus',\n",
              " 'normal',\n",
              " 'covid',\n",
              " 'virus',\n",
              " 'normal',\n",
              " 'virus',\n",
              " 'normal',\n",
              " 'covid',\n",
              " 'normal',\n",
              " 'normal',\n",
              " 'covid',\n",
              " 'covid',\n",
              " 'virus',\n",
              " 'normal',\n",
              " 'normal',\n",
              " 'normal',\n",
              " 'virus',\n",
              " 'normal',\n",
              " 'covid',\n",
              " 'virus',\n",
              " 'virus',\n",
              " 'normal',\n",
              " 'virus',\n",
              " 'covid',\n",
              " 'virus',\n",
              " 'normal',\n",
              " 'covid',\n",
              " 'covid',\n",
              " 'normal',\n",
              " 'virus',\n",
              " 'normal',\n",
              " 'virus',\n",
              " 'covid',\n",
              " 'virus',\n",
              " 'normal',\n",
              " 'virus',\n",
              " 'normal',\n",
              " 'normal',\n",
              " 'virus',\n",
              " 'covid',\n",
              " 'virus',\n",
              " 'normal',\n",
              " 'normal',\n",
              " 'virus',\n",
              " 'normal',\n",
              " 'normal',\n",
              " 'virus',\n",
              " 'covid',\n",
              " 'virus',\n",
              " 'virus',\n",
              " 'normal',\n",
              " 'virus',\n",
              " 'normal',\n",
              " 'virus',\n",
              " 'virus',\n",
              " 'covid',\n",
              " 'normal',\n",
              " 'virus',\n",
              " 'normal',\n",
              " 'normal',\n",
              " 'covid',\n",
              " 'virus',\n",
              " 'covid',\n",
              " 'covid',\n",
              " 'normal',\n",
              " 'normal',\n",
              " 'normal',\n",
              " 'normal',\n",
              " 'virus',\n",
              " 'normal',\n",
              " 'virus',\n",
              " 'virus',\n",
              " 'normal',\n",
              " 'virus',\n",
              " 'covid',\n",
              " 'covid',\n",
              " 'normal',\n",
              " 'virus',\n",
              " 'virus',\n",
              " 'normal',\n",
              " 'normal',\n",
              " 'covid',\n",
              " 'normal',\n",
              " 'normal',\n",
              " 'normal',\n",
              " 'covid',\n",
              " 'covid',\n",
              " 'covid',\n",
              " 'normal',\n",
              " 'normal',\n",
              " 'normal',\n",
              " 'virus',\n",
              " 'normal',\n",
              " 'normal',\n",
              " 'virus',\n",
              " 'normal',\n",
              " 'covid',\n",
              " 'normal',\n",
              " 'virus',\n",
              " 'virus',\n",
              " 'normal',\n",
              " 'covid',\n",
              " 'normal',\n",
              " 'normal',\n",
              " 'normal',\n",
              " 'covid',\n",
              " 'covid',\n",
              " 'virus',\n",
              " 'normal',\n",
              " 'normal',\n",
              " 'virus',\n",
              " 'virus',\n",
              " 'covid',\n",
              " 'virus',\n",
              " 'covid',\n",
              " 'virus',\n",
              " 'virus',\n",
              " 'virus',\n",
              " 'normal',\n",
              " 'covid',\n",
              " 'normal',\n",
              " 'covid',\n",
              " 'normal',\n",
              " 'normal',\n",
              " 'normal',\n",
              " 'virus',\n",
              " 'covid',\n",
              " 'normal',\n",
              " 'covid',\n",
              " 'covid',\n",
              " 'normal',\n",
              " 'virus',\n",
              " 'virus',\n",
              " 'covid',\n",
              " 'virus',\n",
              " 'normal',\n",
              " 'covid',\n",
              " 'covid',\n",
              " 'covid',\n",
              " 'normal',\n",
              " 'virus',\n",
              " 'virus',\n",
              " 'covid',\n",
              " 'virus',\n",
              " 'virus',\n",
              " 'virus',\n",
              " 'covid',\n",
              " 'covid',\n",
              " 'normal',\n",
              " 'virus',\n",
              " 'normal',\n",
              " 'normal',\n",
              " 'normal',\n",
              " 'virus',\n",
              " 'normal',\n",
              " 'normal',\n",
              " 'normal',\n",
              " 'normal',\n",
              " 'normal',\n",
              " 'covid',\n",
              " 'covid',\n",
              " 'virus',\n",
              " 'normal',\n",
              " 'virus',\n",
              " 'normal',\n",
              " 'covid',\n",
              " 'virus',\n",
              " 'covid',\n",
              " 'normal',\n",
              " 'covid',\n",
              " 'virus',\n",
              " 'covid',\n",
              " 'normal',\n",
              " 'covid',\n",
              " 'virus',\n",
              " 'virus',\n",
              " 'normal',\n",
              " 'normal',\n",
              " 'virus',\n",
              " 'normal',\n",
              " 'virus',\n",
              " 'virus',\n",
              " 'virus',\n",
              " 'covid',\n",
              " 'virus',\n",
              " 'normal',\n",
              " 'virus',\n",
              " 'covid',\n",
              " 'virus',\n",
              " 'covid',\n",
              " 'covid',\n",
              " 'normal',\n",
              " 'covid',\n",
              " 'covid',\n",
              " 'normal',\n",
              " 'normal',\n",
              " 'covid',\n",
              " 'normal',\n",
              " 'normal',\n",
              " 'normal',\n",
              " 'covid',\n",
              " 'covid',\n",
              " 'normal',\n",
              " 'normal',\n",
              " 'virus',\n",
              " 'normal',\n",
              " 'virus',\n",
              " 'normal',\n",
              " 'covid',\n",
              " 'covid',\n",
              " 'normal',\n",
              " 'normal',\n",
              " 'normal',\n",
              " 'virus',\n",
              " 'normal',\n",
              " 'normal',\n",
              " 'virus',\n",
              " 'normal',\n",
              " 'virus',\n",
              " 'normal',\n",
              " 'covid',\n",
              " 'normal',\n",
              " 'covid',\n",
              " 'normal',\n",
              " 'covid',\n",
              " 'normal',\n",
              " 'normal',\n",
              " 'normal',\n",
              " 'virus',\n",
              " 'virus',\n",
              " 'covid',\n",
              " 'normal',\n",
              " 'normal',\n",
              " 'covid',\n",
              " 'covid',\n",
              " 'covid',\n",
              " 'normal',\n",
              " 'normal',\n",
              " 'covid',\n",
              " 'virus',\n",
              " 'normal',\n",
              " 'virus',\n",
              " 'covid',\n",
              " 'virus',\n",
              " 'normal',\n",
              " 'normal',\n",
              " 'normal',\n",
              " 'covid',\n",
              " 'covid',\n",
              " 'normal',\n",
              " 'virus',\n",
              " 'normal',\n",
              " 'normal',\n",
              " 'virus',\n",
              " 'normal',\n",
              " 'virus',\n",
              " 'covid',\n",
              " 'normal',\n",
              " 'normal',\n",
              " 'covid',\n",
              " 'normal',\n",
              " 'virus',\n",
              " 'virus',\n",
              " 'normal',\n",
              " 'virus',\n",
              " 'virus',\n",
              " 'normal',\n",
              " 'covid',\n",
              " 'virus',\n",
              " 'normal',\n",
              " 'virus',\n",
              " 'virus',\n",
              " 'normal',\n",
              " 'virus',\n",
              " 'covid',\n",
              " 'virus',\n",
              " 'normal',\n",
              " 'normal',\n",
              " 'normal',\n",
              " 'virus',\n",
              " 'normal',\n",
              " 'normal',\n",
              " 'normal',\n",
              " 'normal',\n",
              " 'normal',\n",
              " 'covid',\n",
              " 'virus',\n",
              " 'normal',\n",
              " 'virus',\n",
              " 'normal',\n",
              " 'normal',\n",
              " 'virus',\n",
              " 'normal',\n",
              " 'virus',\n",
              " 'covid',\n",
              " 'normal',\n",
              " 'covid',\n",
              " 'virus',\n",
              " 'covid',\n",
              " 'virus',\n",
              " 'covid',\n",
              " 'virus',\n",
              " 'normal',\n",
              " 'virus',\n",
              " 'normal',\n",
              " 'virus',\n",
              " 'covid',\n",
              " 'virus',\n",
              " 'virus',\n",
              " 'normal',\n",
              " 'virus',\n",
              " 'virus',\n",
              " 'covid',\n",
              " 'normal',\n",
              " 'virus',\n",
              " 'virus',\n",
              " 'normal',\n",
              " 'normal',\n",
              " 'virus',\n",
              " 'covid',\n",
              " 'virus',\n",
              " 'virus',\n",
              " 'normal',\n",
              " 'normal',\n",
              " 'normal',\n",
              " 'covid',\n",
              " 'normal',\n",
              " 'normal',\n",
              " 'normal',\n",
              " 'normal',\n",
              " 'covid',\n",
              " 'normal',\n",
              " 'virus',\n",
              " 'virus',\n",
              " 'virus',\n",
              " 'normal',\n",
              " 'covid',\n",
              " 'normal',\n",
              " 'normal',\n",
              " 'virus',\n",
              " 'virus',\n",
              " 'normal',\n",
              " 'normal',\n",
              " 'virus',\n",
              " 'normal',\n",
              " 'virus',\n",
              " 'virus',\n",
              " 'normal',\n",
              " 'virus',\n",
              " 'normal',\n",
              " 'covid',\n",
              " 'covid',\n",
              " 'normal',\n",
              " 'normal',\n",
              " 'virus',\n",
              " 'normal',\n",
              " 'virus',\n",
              " 'covid',\n",
              " 'virus',\n",
              " 'normal',\n",
              " 'normal',\n",
              " 'normal',\n",
              " 'virus',\n",
              " 'virus',\n",
              " 'covid',\n",
              " 'covid',\n",
              " 'virus',\n",
              " 'virus',\n",
              " 'normal',\n",
              " 'covid',\n",
              " 'covid',\n",
              " 'covid',\n",
              " 'normal',\n",
              " 'virus',\n",
              " 'virus',\n",
              " 'normal',\n",
              " 'normal',\n",
              " 'virus',\n",
              " 'covid',\n",
              " 'covid',\n",
              " 'covid',\n",
              " 'virus',\n",
              " 'virus',\n",
              " 'covid',\n",
              " 'normal',\n",
              " 'virus',\n",
              " 'normal',\n",
              " 'normal',\n",
              " 'virus',\n",
              " 'virus',\n",
              " 'virus',\n",
              " 'virus',\n",
              " 'covid',\n",
              " 'covid',\n",
              " 'virus',\n",
              " 'virus',\n",
              " 'normal',\n",
              " 'normal',\n",
              " 'normal',\n",
              " 'virus',\n",
              " 'virus',\n",
              " 'virus',\n",
              " 'virus',\n",
              " 'virus',\n",
              " 'normal',\n",
              " 'normal',\n",
              " 'normal',\n",
              " 'normal',\n",
              " 'normal',\n",
              " 'virus',\n",
              " 'virus',\n",
              " 'normal',\n",
              " 'virus',\n",
              " 'virus',\n",
              " 'virus',\n",
              " 'normal',\n",
              " 'virus',\n",
              " 'virus',\n",
              " 'covid',\n",
              " 'normal',\n",
              " 'virus',\n",
              " 'virus',\n",
              " 'virus',\n",
              " 'covid',\n",
              " 'virus',\n",
              " 'normal',\n",
              " 'covid',\n",
              " 'normal',\n",
              " 'normal',\n",
              " 'normal',\n",
              " 'normal',\n",
              " 'normal',\n",
              " 'covid',\n",
              " 'normal',\n",
              " 'virus',\n",
              " 'virus',\n",
              " 'normal',\n",
              " 'normal',\n",
              " 'virus',\n",
              " 'normal',\n",
              " 'normal',\n",
              " 'covid',\n",
              " 'normal',\n",
              " 'covid',\n",
              " 'virus',\n",
              " 'covid',\n",
              " 'virus',\n",
              " 'normal',\n",
              " 'virus',\n",
              " 'virus',\n",
              " 'normal',\n",
              " 'normal',\n",
              " 'virus',\n",
              " 'normal',\n",
              " 'normal',\n",
              " 'virus',\n",
              " 'covid',\n",
              " 'covid',\n",
              " 'covid',\n",
              " 'virus',\n",
              " 'normal',\n",
              " 'normal',\n",
              " 'normal',\n",
              " 'covid',\n",
              " 'normal',\n",
              " 'normal',\n",
              " 'virus',\n",
              " 'virus',\n",
              " 'covid',\n",
              " 'covid',\n",
              " 'covid']"
            ]
          },
          "metadata": {},
          "execution_count": 141
        }
      ],
      "source": [
        "label"
      ]
    },
    {
      "cell_type": "code",
      "execution_count": null,
      "metadata": {
        "id": "3jQ11d09FdSc"
      },
      "outputs": [],
      "source": [
        "lables_images = []\n",
        "for index, lab in enumerate(label):\n",
        "  lables_images.append({\"Image\": os.listdir(test_dir)[index], \"Label\": lab})"
      ]
    },
    {
      "cell_type": "code",
      "execution_count": null,
      "metadata": {
        "id": "FkHLStrzLPKW"
      },
      "outputs": [],
      "source": [
        "datafram = pd.DataFrame(lables_images)\n"
      ]
    },
    {
      "cell_type": "code",
      "execution_count": null,
      "metadata": {
        "colab": {
          "base_uri": "https://localhost:8080/"
        },
        "id": "7eeX2InJ_UXp",
        "outputId": "55b6b9af-7e75-45ed-afe5-a9afe6cf9a67"
      },
      "outputs": [
        {
          "output_type": "execute_result",
          "data": {
            "text/plain": [
              "pandas.core.frame.DataFrame"
            ]
          },
          "metadata": {},
          "execution_count": 144
        }
      ],
      "source": [
        "type(datafram)"
      ]
    },
    {
      "cell_type": "code",
      "execution_count": null,
      "metadata": {
        "colab": {
          "base_uri": "https://localhost:8080/",
          "height": 17
        },
        "id": "YPckGNGOMKGC",
        "outputId": "bdfb8207-9bc6-4026-fe18-9485772cc1f8"
      },
      "outputs": [
        {
          "output_type": "display_data",
          "data": {
            "text/plain": [
              "<IPython.core.display.Javascript object>"
            ],
            "application/javascript": [
              "\n",
              "    async function download(id, filename, size) {\n",
              "      if (!google.colab.kernel.accessAllowed) {\n",
              "        return;\n",
              "      }\n",
              "      const div = document.createElement('div');\n",
              "      const label = document.createElement('label');\n",
              "      label.textContent = `Downloading \"${filename}\": `;\n",
              "      div.appendChild(label);\n",
              "      const progress = document.createElement('progress');\n",
              "      progress.max = size;\n",
              "      div.appendChild(progress);\n",
              "      document.body.appendChild(div);\n",
              "\n",
              "      const buffers = [];\n",
              "      let downloaded = 0;\n",
              "\n",
              "      const channel = await google.colab.kernel.comms.open(id);\n",
              "      // Send a message to notify the kernel that we're ready.\n",
              "      channel.send({})\n",
              "\n",
              "      for await (const message of channel.messages) {\n",
              "        // Send a message to notify the kernel that we're ready.\n",
              "        channel.send({})\n",
              "        if (message.buffers) {\n",
              "          for (const buffer of message.buffers) {\n",
              "            buffers.push(buffer);\n",
              "            downloaded += buffer.byteLength;\n",
              "            progress.value = downloaded;\n",
              "          }\n",
              "        }\n",
              "      }\n",
              "      const blob = new Blob(buffers, {type: 'application/binary'});\n",
              "      const a = document.createElement('a');\n",
              "      a.href = window.URL.createObjectURL(blob);\n",
              "      a.download = filename;\n",
              "      div.appendChild(a);\n",
              "      a.click();\n",
              "      div.remove();\n",
              "    }\n",
              "  "
            ]
          },
          "metadata": {}
        },
        {
          "output_type": "display_data",
          "data": {
            "text/plain": [
              "<IPython.core.display.Javascript object>"
            ],
            "application/javascript": [
              "download(\"download_ae2b6ba8-9b6b-4655-9d34-094edd4dca1f\", \"sub21.csv\", 10742)"
            ]
          },
          "metadata": {}
        }
      ],
      "source": [
        "datafram.to_csv('sub21.csv', encoding = 'utf-8-sig', index=False,header = 1) \n",
        "files.download('sub21.csv') "
      ]
    },
    {
      "cell_type": "code",
      "source": [],
      "metadata": {
        "id": "fI1-D_3Ka5Gr"
      },
      "execution_count": null,
      "outputs": []
    }
  ],
  "metadata": {
    "colab": {
      "provenance": [],
      "collapsed_sections": [
        "vDyYbPUqojPZ"
      ]
    },
    "kernelspec": {
      "display_name": "Python 3",
      "name": "python3"
    },
    "language_info": {
      "name": "python"
    }
  },
  "nbformat": 4,
  "nbformat_minor": 0
}